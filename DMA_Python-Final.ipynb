{
 "cells": [
  {
   "cell_type": "code",
   "execution_count": 2,
   "id": "ac870305",
   "metadata": {},
   "outputs": [],
   "source": [
    "import pandas as pd\n",
    "import numpy as np\n",
    "import matplotlib.pyplot as plt\n",
    "import warnings\n",
    "warnings.filterwarnings(\"ignore\")"
   ]
  },
  {
   "cell_type": "code",
   "execution_count": 3,
   "id": "b4b749c9",
   "metadata": {},
   "outputs": [
    {
     "name": "stdout",
     "output_type": "stream",
     "text": [
      "Requirement already satisfied: mysql-connector-python in ./anaconda3/lib/python3.11/site-packages (8.2.0)\r\n",
      "Requirement already satisfied: protobuf<=4.21.12,>=4.21.1 in ./anaconda3/lib/python3.11/site-packages (from mysql-connector-python) (4.21.12)\r\n"
     ]
    }
   ],
   "source": [
    "! pip install mysql-connector-python"
   ]
  },
  {
   "cell_type": "code",
   "execution_count": 4,
   "id": "439b3b2c",
   "metadata": {},
   "outputs": [
    {
     "name": "stdout",
     "output_type": "stream",
     "text": [
      "Requirement already satisfied: pymysql in ./anaconda3/lib/python3.11/site-packages (1.1.0)\n",
      "Note: you may need to restart the kernel to use updated packages.\n"
     ]
    }
   ],
   "source": [
    "pip install pymysql"
   ]
  },
  {
   "cell_type": "code",
   "execution_count": 6,
   "id": "95c1d46a",
   "metadata": {},
   "outputs": [],
   "source": [
    "import pymysql\n",
    "\n",
    "conn=pymysql.connect(host='127.0.0.1',port=int(3306),user='root',passwd='root@2023',db='finance')"
   ]
  },
  {
   "cell_type": "code",
   "execution_count": 7,
   "id": "417de76b",
   "metadata": {},
   "outputs": [
    {
     "data": {
      "text/html": [
       "<div>\n",
       "<style scoped>\n",
       "    .dataframe tbody tr th:only-of-type {\n",
       "        vertical-align: middle;\n",
       "    }\n",
       "\n",
       "    .dataframe tbody tr th {\n",
       "        vertical-align: top;\n",
       "    }\n",
       "\n",
       "    .dataframe thead th {\n",
       "        text-align: right;\n",
       "    }\n",
       "</style>\n",
       "<table border=\"1\" class=\"dataframe\">\n",
       "  <thead>\n",
       "    <tr style=\"text-align: right;\">\n",
       "      <th></th>\n",
       "      <th>district_name</th>\n",
       "      <th>total_population</th>\n",
       "    </tr>\n",
       "  </thead>\n",
       "  <tbody>\n",
       "    <tr>\n",
       "      <th>0</th>\n",
       "      <td>Hl.m. Praha</td>\n",
       "      <td>1204953.0</td>\n",
       "    </tr>\n",
       "    <tr>\n",
       "      <th>1</th>\n",
       "      <td>Brno - mesto</td>\n",
       "      <td>387570.0</td>\n",
       "    </tr>\n",
       "    <tr>\n",
       "      <th>2</th>\n",
       "      <td>Ostrava - mesto</td>\n",
       "      <td>323870.0</td>\n",
       "    </tr>\n",
       "    <tr>\n",
       "      <th>3</th>\n",
       "      <td>Karvina</td>\n",
       "      <td>285387.0</td>\n",
       "    </tr>\n",
       "    <tr>\n",
       "      <th>4</th>\n",
       "      <td>Frydek - Mistek</td>\n",
       "      <td>228848.0</td>\n",
       "    </tr>\n",
       "    <tr>\n",
       "      <th>5</th>\n",
       "      <td>Olomouc</td>\n",
       "      <td>226122.0</td>\n",
       "    </tr>\n",
       "    <tr>\n",
       "      <th>6</th>\n",
       "      <td>Zlin</td>\n",
       "      <td>197099.0</td>\n",
       "    </tr>\n",
       "    <tr>\n",
       "      <th>7</th>\n",
       "      <td>Opava</td>\n",
       "      <td>182027.0</td>\n",
       "    </tr>\n",
       "    <tr>\n",
       "      <th>8</th>\n",
       "      <td>Ceske Budejovice</td>\n",
       "      <td>177686.0</td>\n",
       "    </tr>\n",
       "    <tr>\n",
       "      <th>9</th>\n",
       "      <td>Plzen - mesto</td>\n",
       "      <td>170449.0</td>\n",
       "    </tr>\n",
       "  </tbody>\n",
       "</table>\n",
       "</div>"
      ],
      "text/plain": [
       "      district_name  total_population\n",
       "0       Hl.m. Praha         1204953.0\n",
       "1      Brno - mesto          387570.0\n",
       "2   Ostrava - mesto          323870.0\n",
       "3           Karvina          285387.0\n",
       "4   Frydek - Mistek          228848.0\n",
       "5           Olomouc          226122.0\n",
       "6              Zlin          197099.0\n",
       "7             Opava          182027.0\n",
       "8  Ceske Budejovice          177686.0\n",
       "9     Plzen - mesto          170449.0"
      ]
     },
     "execution_count": 7,
     "metadata": {},
     "output_type": "execute_result"
    }
   ],
   "source": [
    "df_top10 = pd.read_sql_query(\n",
    "\"SELECT A2 AS district_name, SUM(A4) AS total_population FROM district GROUP BY district_name ORDER BY total_population DESC LIMIT 10;\",conn)\n",
    "\n",
    "df_top10"
   ]
  },
  {
   "cell_type": "code",
   "execution_count": 8,
   "id": "f0f717df",
   "metadata": {},
   "outputs": [],
   "source": [
    "df_top10['total_population'] = df_top10['total_population'].astype(int)"
   ]
  },
  {
   "cell_type": "code",
   "execution_count": 9,
   "id": "96be7701",
   "metadata": {},
   "outputs": [
    {
     "data": {
      "text/html": [
       "<div>\n",
       "<style scoped>\n",
       "    .dataframe tbody tr th:only-of-type {\n",
       "        vertical-align: middle;\n",
       "    }\n",
       "\n",
       "    .dataframe tbody tr th {\n",
       "        vertical-align: top;\n",
       "    }\n",
       "\n",
       "    .dataframe thead th {\n",
       "        text-align: right;\n",
       "    }\n",
       "</style>\n",
       "<table border=\"1\" class=\"dataframe\">\n",
       "  <thead>\n",
       "    <tr style=\"text-align: right;\">\n",
       "      <th></th>\n",
       "      <th>district_name</th>\n",
       "      <th>total_population</th>\n",
       "    </tr>\n",
       "  </thead>\n",
       "  <tbody>\n",
       "    <tr>\n",
       "      <th>9</th>\n",
       "      <td>Plzen - mesto</td>\n",
       "      <td>170449</td>\n",
       "    </tr>\n",
       "    <tr>\n",
       "      <th>8</th>\n",
       "      <td>Ceske Budejovice</td>\n",
       "      <td>177686</td>\n",
       "    </tr>\n",
       "    <tr>\n",
       "      <th>7</th>\n",
       "      <td>Opava</td>\n",
       "      <td>182027</td>\n",
       "    </tr>\n",
       "    <tr>\n",
       "      <th>6</th>\n",
       "      <td>Zlin</td>\n",
       "      <td>197099</td>\n",
       "    </tr>\n",
       "    <tr>\n",
       "      <th>5</th>\n",
       "      <td>Olomouc</td>\n",
       "      <td>226122</td>\n",
       "    </tr>\n",
       "    <tr>\n",
       "      <th>4</th>\n",
       "      <td>Frydek - Mistek</td>\n",
       "      <td>228848</td>\n",
       "    </tr>\n",
       "    <tr>\n",
       "      <th>3</th>\n",
       "      <td>Karvina</td>\n",
       "      <td>285387</td>\n",
       "    </tr>\n",
       "    <tr>\n",
       "      <th>2</th>\n",
       "      <td>Ostrava - mesto</td>\n",
       "      <td>323870</td>\n",
       "    </tr>\n",
       "    <tr>\n",
       "      <th>1</th>\n",
       "      <td>Brno - mesto</td>\n",
       "      <td>387570</td>\n",
       "    </tr>\n",
       "    <tr>\n",
       "      <th>0</th>\n",
       "      <td>Hl.m. Praha</td>\n",
       "      <td>1204953</td>\n",
       "    </tr>\n",
       "  </tbody>\n",
       "</table>\n",
       "</div>"
      ],
      "text/plain": [
       "      district_name  total_population\n",
       "9     Plzen - mesto            170449\n",
       "8  Ceske Budejovice            177686\n",
       "7             Opava            182027\n",
       "6              Zlin            197099\n",
       "5           Olomouc            226122\n",
       "4   Frydek - Mistek            228848\n",
       "3           Karvina            285387\n",
       "2   Ostrava - mesto            323870\n",
       "1      Brno - mesto            387570\n",
       "0       Hl.m. Praha           1204953"
      ]
     },
     "execution_count": 9,
     "metadata": {},
     "output_type": "execute_result"
    }
   ],
   "source": [
    "df_sorted = df_top10.sort_values(by= 'total_population', ascending = True)\n",
    "df_sorted"
   ]
  },
  {
   "cell_type": "code",
   "execution_count": 10,
   "id": "7ab58508",
   "metadata": {},
   "outputs": [],
   "source": [
    "#improve buisness and sell more cards -motive behind finding most populated districts\n",
    "install branches and "
   ]
  },
  {
   "cell_type": "code",
   "execution_count": 64,
   "id": "3719bbdb",
   "metadata": {},
   "outputs": [
    {
     "data": {
      "image/png": "[encoded data removed]",
      "text/plain": [
       "<Figure size 1000x600 with 1 Axes>"
      ]
     },
     "metadata": {},
     "output_type": "display_data"
    }
   ],
   "source": [
    "import matplotlib.pyplot as plt\n",
    "\n",
    "plt.figure(figsize=(10,6))\n",
    "plt.barh(df_sorted['district_name'],df_sorted['total_population'], color='orange')\n",
    "\n",
    "# Adding labels and title\n",
    "plt.xlabel('Total Population')\n",
    "plt.ylabel('Districts')\n",
    "plt.title('Top 10 Districts with Most Population')\n",
    "\n",
    "# Display the plot\n",
    "plt.show()"
   ]
  },
  {
   "cell_type": "code",
   "execution_count": 11,
   "id": "e1b9ac92",
   "metadata": {
    "scrolled": true
   },
   "outputs": [],
   "source": [
    "df_1 = pd.read_sql_query(\"SELECT * FROM card\", conn)"
   ]
  },
  {
   "cell_type": "code",
   "execution_count": 12,
   "id": "dec8b600",
   "metadata": {},
   "outputs": [],
   "source": [
    "df_2= df_1.groupby(\"type\").count().reset_index()"
   ]
  },
  {
   "cell_type": "code",
   "execution_count": 13,
   "id": "1a379824",
   "metadata": {},
   "outputs": [
    {
     "data": {
      "text/html": [
       "<div>\n",
       "<style scoped>\n",
       "    .dataframe tbody tr th:only-of-type {\n",
       "        vertical-align: middle;\n",
       "    }\n",
       "\n",
       "    .dataframe tbody tr th {\n",
       "        vertical-align: top;\n",
       "    }\n",
       "\n",
       "    .dataframe thead th {\n",
       "        text-align: right;\n",
       "    }\n",
       "</style>\n",
       "<table border=\"1\" class=\"dataframe\">\n",
       "  <thead>\n",
       "    <tr style=\"text-align: right;\">\n",
       "      <th></th>\n",
       "      <th>type</th>\n",
       "      <th>card_id</th>\n",
       "      <th>disp_id</th>\n",
       "      <th>issued</th>\n",
       "    </tr>\n",
       "  </thead>\n",
       "  <tbody>\n",
       "    <tr>\n",
       "      <th>0</th>\n",
       "      <td>classic</td>\n",
       "      <td>659</td>\n",
       "      <td>659</td>\n",
       "      <td>659</td>\n",
       "    </tr>\n",
       "    <tr>\n",
       "      <th>1</th>\n",
       "      <td>gold</td>\n",
       "      <td>88</td>\n",
       "      <td>88</td>\n",
       "      <td>88</td>\n",
       "    </tr>\n",
       "    <tr>\n",
       "      <th>2</th>\n",
       "      <td>junior</td>\n",
       "      <td>145</td>\n",
       "      <td>145</td>\n",
       "      <td>145</td>\n",
       "    </tr>\n",
       "  </tbody>\n",
       "</table>\n",
       "</div>"
      ],
      "text/plain": [
       "      type  card_id  disp_id  issued\n",
       "0  classic      659      659     659\n",
       "1     gold       88       88      88\n",
       "2   junior      145      145     145"
      ]
     },
     "execution_count": 13,
     "metadata": {},
     "output_type": "execute_result"
    }
   ],
   "source": [
    "df_2"
   ]
  },
  {
   "cell_type": "code",
   "execution_count": 15,
   "id": "4e0d6569",
   "metadata": {},
   "outputs": [
    {
     "data": {
      "image/png": "[encoded data removed]",
      "text/plain": [
       "<Figure size 800x800 with 1 Axes>"
      ]
     },
     "metadata": {},
     "output_type": "display_data"
    }
   ],
   "source": [
    "import pandas as pd\n",
    "import matplotlib.pyplot as plt\n",
    "\n",
    "colors = ['lightgreen','yellow','orange']\n",
    "\n",
    "plt.figure(figsize=(8, 8))\n",
    "plt.pie(df_2['issued'], labels= df_2['type'], autopct='%1.1f%%', startangle=90, colors=colors)\n",
    "plt.title('Pie Chart for Card Types')\n",
    "plt.show()"
   ]
  },
  {
   "cell_type": "code",
   "execution_count": null,
   "id": "7cf9b88c",
   "metadata": {},
   "outputs": [],
   "source": []
  }
 ],
 "metadata": {
  "kernelspec": {
   "display_name": "Python 3 (ipykernel)",
   "language": "python",
   "name": "python3"
  },
  "language_info": {
   "codemirror_mode": {
    "name": "ipython",
    "version": 3
   },
   "file_extension": ".py",
   "mimetype": "text/x-python",
   "name": "python",
   "nbconvert_exporter": "python",
   "pygments_lexer": "ipython3",
   "version": "3.11.5"
  }
 },
 "nbformat": 4,
 "nbformat_minor": 5
}
